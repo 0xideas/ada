{
 "cells": [
  {
   "cell_type": "code",
   "execution_count": 119,
   "metadata": {},
   "outputs": [
    {
     "data": {
      "text/plain": [
       "defined \u001b[32mclass\u001b[39m \u001b[36mRegression\u001b[39m\n",
       "defined \u001b[32mclass\u001b[39m \u001b[36mAutoregressor\u001b[39m"
      ]
     },
     "execution_count": 119,
     "metadata": {},
     "output_type": "execute_result"
    }
   ],
   "source": [
    "class Regression{\n",
    "\tprivate var m = 0.0\n",
    "\tprivate var b = 0.0\n",
    "\tprivate val eta = 0.0000000000001\n",
    "\tdef listMean(l: List[Double]): Double = l.sum/l.length\n",
    "\tdef correlation(a: List[Double], b: List[Double]): Double = {\n",
    "\t\tval aMean = listMean(a)\n",
    "\t\tval bMean = listMean(b)\n",
    "\t\tlistMean(a.zip(b).map{case(aa, bb) => (aa-aMean)*(bb-bMean)})/(standardDeviation(a)*standardDeviation(b) + eta)\n",
    "\t}\n",
    "\tdef standardDeviation(a: List[Double]): Double = {\n",
    "\t\tval mean = listMean(a)\n",
    "\t\tmath.sqrt(listMean(a.map(aa => math.pow(aa-mean, 2))))\n",
    "\t}\n",
    "\tdef fitReverse(y: List[Double]): Regression = {\n",
    "\t\tval x = (y.length-1 to 0 by -1).toList.map(_.toDouble)\n",
    "\t\tm = correlation(x, y)*(standardDeviation(y)/standardDeviation(x)+eta)\n",
    "\t\tb = listMean(y) - m*listMean(x)\n",
    "\t\t//println(s\"$m*x + $b\")\n",
    "\t\tthis\n",
    "\t}\n",
    "\tdef predict(x: Double): Double = {\n",
    "\t\tx*m + b\n",
    "\t}\n",
    "\tdef getM: Double = m\n",
    "}\n",
    "\n",
    "\n",
    "class Autoregressor(steps: Int, var vol:Double){\n",
    "    private val rnd = new scala.util.Random\n",
    "    private var values = rnd.nextDouble+999.4999 :: Array.fill(steps+1)(1000.0).toList\n",
    "    private var regressor = new Regression()\n",
    "    private var lastVol = (rnd.nextGaussian)/50\n",
    "    def next(): Double = {\n",
    "        val nextRegressed = regressor.fitReverse(values.take(steps)).predict(steps.toDouble-0.6)\n",
    "    \tval volatility:Double = ((rnd.nextGaussian/50)+ lastVol*0.5 + 0.0003)\n",
    "    \tlastVol = volatility\n",
    " \t\tval nextVal = nextRegressed * (1.0+volatility*vol)\n",
    "        values = nextVal :: values\n",
    "        nextVal\n",
    "    }\n",
    "}\n",
    "\n"
   ]
  },
  {
   "cell_type": "code",
   "execution_count": 134,
   "metadata": {},
   "outputs": [
    {
     "data": {
      "text/plain": [
       "\u001b[32mimport \u001b[39m\u001b[36mjava.io.{FileWriter, File, BufferedWriter}\n",
       "\n",
       "\u001b[39m\n",
       "defined \u001b[32mfunction\u001b[39m \u001b[36mwriteFile\u001b[39m"
      ]
     },
     "execution_count": 134,
     "metadata": {},
     "output_type": "execute_result"
    }
   ],
   "source": [
    "import java.io.{FileWriter, File, BufferedWriter}\n",
    "\n",
    "def writeFile(filename: String, lines: Seq[String]): Unit = {\n",
    "    val file = new File(filename)\n",
    "    val bw = new BufferedWriter(new FileWriter(file))\n",
    "    for (line <- lines) {\n",
    "        bw.write(line)\n",
    "        bw.newLine()\n",
    "    }\n",
    "    bw.close()\n",
    "}"
   ]
  },
  {
   "cell_type": "code",
   "execution_count": 157,
   "metadata": {},
   "outputs": [
    {
     "data": {
      "text/plain": [
       "\u001b[36mnSteps\u001b[39m: \u001b[32mInt\u001b[39m = \u001b[32m21\u001b[39m\n",
       "\u001b[36mvol\u001b[39m: \u001b[32mDouble\u001b[39m = \u001b[32m0.1\u001b[39m\n",
       "\u001b[36mar\u001b[39m: \u001b[32mAutoregressor\u001b[39m = ammonite.$sess.cmd118$Helper$Autoregressor@3a3f0329\n",
       "\u001b[36mlongRegression\u001b[39m: \u001b[32mIndexedSeq\u001b[39m[\u001b[32mDouble\u001b[39m] = \u001b[33mVector\u001b[39m(\n",
       "  \u001b[32m1004.3371102230557\u001b[39m,\n",
       "  \u001b[32m1007.6005051976716\u001b[39m,\n",
       "  \u001b[32m1003.617456030595\u001b[39m,\n",
       "  \u001b[32m1002.141574074712\u001b[39m,\n",
       "  \u001b[32m1004.6905249584872\u001b[39m,\n",
       "  \u001b[32m1003.0718663321677\u001b[39m,\n",
       "  \u001b[32m1005.6606849842078\u001b[39m,\n",
       "  \u001b[32m1006.6518549908145\u001b[39m,\n",
       "  \u001b[32m1007.4460640991969\u001b[39m,\n",
       "  \u001b[32m1007.6824636080295\u001b[39m,\n",
       "  \u001b[32m1006.9578169005908\u001b[39m,\n",
       "  \u001b[32m1009.3079626828663\u001b[39m,\n",
       "  \u001b[32m1009.1516066924527\u001b[39m,\n",
       "  \u001b[32m1008.8730047417489\u001b[39m,\n",
       "  \u001b[32m1010.0230433331338\u001b[39m,\n",
       "  \u001b[32m1012.9809341096035\u001b[39m,\n",
       "  \u001b[32m1011.2467226486938\u001b[39m,\n",
       "  \u001b[32m1011.766896914281\u001b[39m,\n",
       "  \u001b[32m1011.9588601739879\u001b[39m,\n",
       "  \u001b[32m1014.7445419649528\u001b[39m,\n",
       "  \u001b[32m1015.9342470134209\u001b[39m,\n",
       "  \u001b[32m1016.6364518959763\u001b[39m,\n",
       "  \u001b[32m1017.5051823445039\u001b[39m,\n",
       "  \u001b[32m1017.4183449916934\u001b[39m,\n",
       "  \u001b[32m1019.7391811198905\u001b[39m,\n",
       "  \u001b[32m1020.9313157973153\u001b[39m,\n",
       "  \u001b[32m1021.5388654654216\u001b[39m,\n",
       "  \u001b[32m1024.7825216327085\u001b[39m,\n",
       "  \u001b[32m1022.8432623785399\u001b[39m,\n",
       "  \u001b[32m1021.7058981236884\u001b[39m,\n",
       "  \u001b[32m1024.2318676929024\u001b[39m,\n",
       "  \u001b[32m1022.3784922791654\u001b[39m,\n",
       "  \u001b[32m1021.5338236752659\u001b[39m,\n",
       "  \u001b[32m1021.6983851337529\u001b[39m,\n",
       "  \u001b[32m1026.594975909104\u001b[39m,\n",
       "  \u001b[32m1028.3422941317501\u001b[39m,\n",
       "  \u001b[32m1024.2754768076334\u001b[39m,\n",
       "  \u001b[32m1025.5750189624616\u001b[39m,\n",
       "...\n",
       "\u001b[36mres156_4\u001b[39m: \u001b[32mIndexedSeq\u001b[39m[\u001b[32mDouble\u001b[39m] = \u001b[33mVector\u001b[39m(\n",
       "  \u001b[32m2155.9208112644415\u001b[39m,\n",
       "  \u001b[32m2160.058991676982\u001b[39m,\n",
       "  \u001b[32m2159.622420360724\u001b[39m,\n",
       "  \u001b[32m2164.4362058632655\u001b[39m,\n",
       "  \u001b[32m2157.2644260976117\u001b[39m,\n",
       "  \u001b[32m2157.621712069141\u001b[39m,\n",
       "  \u001b[32m2165.521638658918\u001b[39m,\n",
       "  \u001b[32m2166.885113945804\u001b[39m,\n",
       "  \u001b[32m2164.7616204861206\u001b[39m,\n",
       "  \u001b[32m2171.2810281915026\u001b[39m\n",
       ")\n",
       "\u001b[36mres156_5\u001b[39m: \u001b[32mDouble\u001b[39m = \u001b[32m12.451083909264526\u001b[39m\n",
       "\u001b[36mres156_6\u001b[39m: \u001b[32mDouble\u001b[39m = \u001b[32m667.8839529744139\u001b[39m"
      ]
     },
     "execution_count": 157,
     "metadata": {},
     "output_type": "execute_result"
    }
   ],
   "source": [
    "val nSteps = 21\n",
    "val vol = 0.1\n",
    "val ar = new Autoregressor(nSteps, vol)\n",
    "val longRegression = (0 until 10000).map(_ => ar.next())\n",
    "longRegression.takeRight(10)\n",
    "longRegression.scanLeft((0.0, 0.0))((agg, v) => (v, agg._1-v)).map(_._2).max\n",
    "longRegression.min\n",
    "writeFile(f\"/home/leon/projects/epsilon-ensemble/data/autorergression$nSteps-$vol.txt\", longRegression.map(_.toString))"
   ]
  }
 ],
 "metadata": {
  "kernelspec": {
   "display_name": "Scala",
   "language": "scala",
   "name": "scala"
  },
  "language_info": {
   "codemirror_mode": "text/x-scala",
   "file_extension": ".sc",
   "mimetype": "text/x-scala",
   "name": "scala",
   "nbconvert_exporter": "script",
   "version": "2.13.3"
  }
 },
 "nbformat": 4,
 "nbformat_minor": 4
}
