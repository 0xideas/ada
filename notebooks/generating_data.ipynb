{
 "cells": [
  {
   "cell_type": "code",
   "execution_count": 15,
   "metadata": {},
   "outputs": [
    {
     "data": {
      "text/plain": [
       "defined \u001b[32mclass\u001b[39m \u001b[36mRegression\u001b[39m\n",
       "defined \u001b[32mclass\u001b[39m \u001b[36mAutoregressor\u001b[39m"
      ]
     },
     "execution_count": 15,
     "metadata": {},
     "output_type": "execute_result"
    }
   ],
   "source": [
    "\n",
    "class Regression{\n",
    "\tprivate var m = 0.0\n",
    "\tprivate var b = 0.0\n",
    "\tprivate val eta = 0.0000000000001\n",
    "\tdef listMean(l: List[Double]): Double = l.sum/l.length\n",
    "\tdef correlation(a: List[Double], b: List[Double]): Double = {\n",
    "\t\tval aMean = listMean(a)\n",
    "\t\tval bMean = listMean(b)\n",
    "\t\tlistMean(a.zip(b).map{case(aa, bb) => (aa-aMean)*(bb-bMean)})/(standardDeviation(a)*standardDeviation(b) + eta)\n",
    "\t}\n",
    "\tdef standardDeviation(a: List[Double]): Double = {\n",
    "\t\tval mean = listMean(a)\n",
    "\t\tmath.sqrt(listMean(a.map(aa => math.pow(aa-mean, 2))))\n",
    "\t}\n",
    "\tdef fitReverse(y: List[Double]): Regression = {\n",
    "\t\tval x = (y.length-1 to 0 by -1).toList.map(_.toDouble)\n",
    "\t\tm = correlation(x, y)*(standardDeviation(y)/standardDeviation(x)+eta)\n",
    "\t\tb = listMean(y) - m*listMean(x)\n",
    "\t\t//println(s\"$m*x + $b\")\n",
    "\t\tthis\n",
    "\t}\n",
    "\tdef predict(x: Double): Double = {\n",
    "\t\tx*m + b\n",
    "\t}\n",
    "\tdef getM: Double = m\n",
    "}\n",
    "\n",
    "\n",
    "class Autoregressor(steps: Int, var vol:Double){\n",
    "    private val rnd = new scala.util.Random\n",
    "    private var values = rnd.nextDouble+999.4999 :: Array.fill(steps+1)(1000.0).toList\n",
    "    private var regressor = new Regression()\n",
    "    private var lastVol = (rnd.nextGaussian)/50\n",
    "    def next(): Double = {\n",
    "        val nextRegressed = regressor.fitReverse(values.take(steps)).predict(steps.toDouble-0.6)\n",
    "    \tval volatility:Double = ((rnd.nextGaussian/50)+ lastVol*0.5 - 0.0003*0.15/vol)\n",
    "    \tlastVol = volatility\n",
    " \t\tval nextVal = nextRegressed * (1.0-volatility*vol)\n",
    "        values = nextVal :: values\n",
    "        nextVal\n",
    "    }\n",
    "}"
   ]
  },
  {
   "cell_type": "code",
   "execution_count": 9,
   "metadata": {},
   "outputs": [
    {
     "data": {
      "text/plain": [
       "\u001b[32mimport \u001b[39m\u001b[36mjava.io.{FileWriter, File, BufferedWriter}\n",
       "\n",
       "\u001b[39m\n",
       "defined \u001b[32mfunction\u001b[39m \u001b[36mwriteFile\u001b[39m"
      ]
     },
     "execution_count": 9,
     "metadata": {},
     "output_type": "execute_result"
    }
   ],
   "source": [
    "\n",
    "import java.io.{FileWriter, File, BufferedWriter}\n",
    "\n",
    "def writeFile(filename: String, lines: Seq[String]): Unit = {\n",
    "    val file = new File(filename)\n",
    "    val bw = new BufferedWriter(new FileWriter(file))\n",
    "    for (line <- lines) {\n",
    "        bw.write(line)\n",
    "        bw.newLine()\n",
    "    }\n",
    "    bw.close()\n",
    "}"
   ]
  },
  {
   "cell_type": "code",
   "execution_count": 75,
   "metadata": {},
   "outputs": [
    {
     "data": {
      "text/plain": [
       "\u001b[36mnSteps\u001b[39m: \u001b[32mInt\u001b[39m = \u001b[32m10\u001b[39m\n",
       "\u001b[36mvol\u001b[39m: \u001b[32mDouble\u001b[39m = \u001b[32m0.2\u001b[39m\n",
       "\u001b[36mar\u001b[39m: \u001b[32mAutoregressor\u001b[39m = ammonite.$sess.cmd14$Helper$Autoregressor@793a229d\n",
       "\u001b[36mlongRegression\u001b[39m: \u001b[32mIndexedSeq\u001b[39m[\u001b[32mDouble\u001b[39m] = \u001b[33mVector\u001b[39m(\n",
       "  \u001b[32m1003.667211394216\u001b[39m,\n",
       "  \u001b[32m1002.5883641312815\u001b[39m,\n",
       "  \u001b[32m1003.2196392397268\u001b[39m,\n",
       "  \u001b[32m1003.8736747347039\u001b[39m,\n",
       "  \u001b[32m1004.402901733984\u001b[39m,\n",
       "  \u001b[32m1008.7763563275715\u001b[39m,\n",
       "  \u001b[32m1008.5996884878476\u001b[39m,\n",
       "  \u001b[32m1015.1573904348744\u001b[39m,\n",
       "  \u001b[32m1018.4902303189365\u001b[39m,\n",
       "  \u001b[32m1014.0127386742919\u001b[39m,\n",
       "  \u001b[32m1009.7055166468795\u001b[39m,\n",
       "  \u001b[32m1011.8643734191219\u001b[39m,\n",
       "  \u001b[32m1013.339470610426\u001b[39m,\n",
       "  \u001b[32m1019.1046450070169\u001b[39m,\n",
       "  \u001b[32m1012.2473669374101\u001b[39m,\n",
       "  \u001b[32m1010.335061250991\u001b[39m,\n",
       "  \u001b[32m1013.7842410907849\u001b[39m,\n",
       "  \u001b[32m1010.4163043675903\u001b[39m,\n",
       "  \u001b[32m1015.9661839601351\u001b[39m,\n",
       "  \u001b[32m1019.125962453257\u001b[39m,\n",
       "  \u001b[32m1020.2634269843337\u001b[39m,\n",
       "  \u001b[32m1021.517397751277\u001b[39m,\n",
       "  \u001b[32m1014.8878738154721\u001b[39m,\n",
       "  \u001b[32m1013.8598955059016\u001b[39m,\n",
       "  \u001b[32m1018.5958385788379\u001b[39m,\n",
       "  \u001b[32m1015.7794227745412\u001b[39m,\n",
       "  \u001b[32m1010.9180894057124\u001b[39m,\n",
       "  \u001b[32m1017.1736376524382\u001b[39m,\n",
       "  \u001b[32m1020.4020641916335\u001b[39m,\n",
       "  \u001b[32m1022.62348781823\u001b[39m,\n",
       "  \u001b[32m1026.596425201601\u001b[39m,\n",
       "  \u001b[32m1026.6330562245812\u001b[39m,\n",
       "  \u001b[32m1027.63195973035\u001b[39m,\n",
       "  \u001b[32m1029.135459385118\u001b[39m,\n",
       "  \u001b[32m1032.099151922043\u001b[39m,\n",
       "  \u001b[32m1028.5199124609949\u001b[39m,\n",
       "  \u001b[32m1029.2543969250103\u001b[39m,\n",
       "  \u001b[32m1027.5513885033904\u001b[39m,\n",
       "...\n",
       "\u001b[36mres74_4\u001b[39m: \u001b[32mIndexedSeq\u001b[39m[\u001b[32mDouble\u001b[39m] = \u001b[33mVector\u001b[39m(\n",
       "  \u001b[32m3311.636631787199\u001b[39m,\n",
       "  \u001b[32m3317.8231534411048\u001b[39m,\n",
       "  \u001b[32m3334.316815378524\u001b[39m,\n",
       "  \u001b[32m3340.8361252234586\u001b[39m,\n",
       "  \u001b[32m3343.499662253679\u001b[39m,\n",
       "  \u001b[32m3322.3930698329086\u001b[39m,\n",
       "  \u001b[32m3355.4505857452973\u001b[39m,\n",
       "  \u001b[32m3356.7790220569095\u001b[39m,\n",
       "  \u001b[32m3362.293179851911\u001b[39m,\n",
       "  \u001b[32m3364.8059510992694\u001b[39m\n",
       ")\n",
       "\u001b[36mres74_5\u001b[39m: \u001b[32mDouble\u001b[39m = \u001b[32m82.28292812796644\u001b[39m\n",
       "\u001b[36mres74_6\u001b[39m: \u001b[32mDouble\u001b[39m = \u001b[32m553.2886436992062\u001b[39m"
      ]
     },
     "execution_count": 75,
     "metadata": {},
     "output_type": "execute_result"
    }
   ],
   "source": [
    "val nSteps = 10\n",
    "val vol = 0.2\n",
    "val ar = new Autoregressor(nSteps, vol)\n",
    "val longRegression = (0 until 10000).map(_ => ar.next())\n",
    "longRegression.takeRight(10)\n",
    "longRegression.scanLeft((0.0, 0.0))((agg, v) => (v, agg._1-v)).map(_._2).max\n",
    "longRegression.min\n",
    "writeFile(f\"/home/leon/projects/epsilon-ensemble/data/autorergression$nSteps-$vol.txt\", longRegression.map(_.toString))"
   ]
  }
 ],
 "metadata": {
  "kernelspec": {
   "display_name": "Scala",
   "language": "scala",
   "name": "scala"
  },
  "language_info": {
   "codemirror_mode": "text/x-scala",
   "file_extension": ".sc",
   "mimetype": "text/x-scala",
   "name": "scala",
   "nbconvert_exporter": "script",
   "version": "2.13.3"
  }
 },
 "nbformat": 4,
 "nbformat_minor": 4
}
